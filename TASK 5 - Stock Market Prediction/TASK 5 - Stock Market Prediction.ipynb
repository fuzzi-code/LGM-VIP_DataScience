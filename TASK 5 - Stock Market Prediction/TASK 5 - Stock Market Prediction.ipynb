{
 "cells": [
  {
   "cell_type": "code",
   "execution_count": 2,
   "id": "e5c483d3",
   "metadata": {},
   "outputs": [],
   "source": [
    "import math\n",
    "import numpy as np\n",
    "import pandas as pd\n",
    "import tensorflow as tf\n",
    "import matplotlib.pyplot as plt"
   ]
  },
  {
   "cell_type": "code",
   "execution_count": 3,
   "id": "6dc61f87",
   "metadata": {},
   "outputs": [],
   "source": [
    "url = \"https://raw.githubusercontent.com/mwitiderrick/stockprice/master/NSE-TATAGLOBAL.csv\"\n",
    "data = pd.read_csv(url)"
   ]
  },
  {
   "cell_type": "code",
   "execution_count": 4,
   "id": "cc6055c0",
   "metadata": {},
   "outputs": [
    {
     "data": {
      "text/html": [
       "<div>\n",
       "<style scoped>\n",
       "    .dataframe tbody tr th:only-of-type {\n",
       "        vertical-align: middle;\n",
       "    }\n",
       "\n",
       "    .dataframe tbody tr th {\n",
       "        vertical-align: top;\n",
       "    }\n",
       "\n",
       "    .dataframe thead th {\n",
       "        text-align: right;\n",
       "    }\n",
       "</style>\n",
       "<table border=\"1\" class=\"dataframe\">\n",
       "  <thead>\n",
       "    <tr style=\"text-align: right;\">\n",
       "      <th></th>\n",
       "      <th>Date</th>\n",
       "      <th>Open</th>\n",
       "      <th>High</th>\n",
       "      <th>Low</th>\n",
       "      <th>Last</th>\n",
       "      <th>Close</th>\n",
       "      <th>Total Trade Quantity</th>\n",
       "      <th>Turnover (Lacs)</th>\n",
       "    </tr>\n",
       "  </thead>\n",
       "  <tbody>\n",
       "    <tr>\n",
       "      <th>2034</th>\n",
       "      <td>2010-07-21</td>\n",
       "      <td>122.1</td>\n",
       "      <td>123.00</td>\n",
       "      <td>121.05</td>\n",
       "      <td>121.10</td>\n",
       "      <td>121.55</td>\n",
       "      <td>658666</td>\n",
       "      <td>803.56</td>\n",
       "    </tr>\n",
       "    <tr>\n",
       "      <th>2033</th>\n",
       "      <td>2010-07-22</td>\n",
       "      <td>120.3</td>\n",
       "      <td>122.00</td>\n",
       "      <td>120.25</td>\n",
       "      <td>120.75</td>\n",
       "      <td>120.90</td>\n",
       "      <td>293312</td>\n",
       "      <td>355.17</td>\n",
       "    </tr>\n",
       "    <tr>\n",
       "      <th>2032</th>\n",
       "      <td>2010-07-23</td>\n",
       "      <td>121.8</td>\n",
       "      <td>121.95</td>\n",
       "      <td>120.25</td>\n",
       "      <td>120.35</td>\n",
       "      <td>120.65</td>\n",
       "      <td>281312</td>\n",
       "      <td>340.31</td>\n",
       "    </tr>\n",
       "    <tr>\n",
       "      <th>2031</th>\n",
       "      <td>2010-07-26</td>\n",
       "      <td>120.1</td>\n",
       "      <td>121.00</td>\n",
       "      <td>117.10</td>\n",
       "      <td>117.10</td>\n",
       "      <td>117.60</td>\n",
       "      <td>658440</td>\n",
       "      <td>780.01</td>\n",
       "    </tr>\n",
       "    <tr>\n",
       "      <th>2030</th>\n",
       "      <td>2010-07-27</td>\n",
       "      <td>117.6</td>\n",
       "      <td>119.50</td>\n",
       "      <td>112.00</td>\n",
       "      <td>118.80</td>\n",
       "      <td>118.65</td>\n",
       "      <td>586100</td>\n",
       "      <td>694.98</td>\n",
       "    </tr>\n",
       "  </tbody>\n",
       "</table>\n",
       "</div>"
      ],
      "text/plain": [
       "            Date   Open    High     Low    Last   Close  Total Trade Quantity  \\\n",
       "2034  2010-07-21  122.1  123.00  121.05  121.10  121.55                658666   \n",
       "2033  2010-07-22  120.3  122.00  120.25  120.75  120.90                293312   \n",
       "2032  2010-07-23  121.8  121.95  120.25  120.35  120.65                281312   \n",
       "2031  2010-07-26  120.1  121.00  117.10  117.10  117.60                658440   \n",
       "2030  2010-07-27  117.6  119.50  112.00  118.80  118.65                586100   \n",
       "\n",
       "      Turnover (Lacs)  \n",
       "2034           803.56  \n",
       "2033           355.17  \n",
       "2032           340.31  \n",
       "2031           780.01  \n",
       "2030           694.98  "
      ]
     },
     "execution_count": 4,
     "metadata": {},
     "output_type": "execute_result"
    }
   ],
   "source": [
    "data = data.sort_values(by=['Date'])\n",
    "data.head()"
   ]
  },
  {
   "cell_type": "code",
   "execution_count": 5,
   "id": "419d7d68",
   "metadata": {},
   "outputs": [
    {
     "name": "stdout",
     "output_type": "stream",
     "text": [
      "<class 'pandas.core.frame.DataFrame'>\n",
      "Int64Index: 2035 entries, 2034 to 0\n",
      "Data columns (total 8 columns):\n",
      " #   Column                Non-Null Count  Dtype  \n",
      "---  ------                --------------  -----  \n",
      " 0   Date                  2035 non-null   object \n",
      " 1   Open                  2035 non-null   float64\n",
      " 2   High                  2035 non-null   float64\n",
      " 3   Low                   2035 non-null   float64\n",
      " 4   Last                  2035 non-null   float64\n",
      " 5   Close                 2035 non-null   float64\n",
      " 6   Total Trade Quantity  2035 non-null   int64  \n",
      " 7   Turnover (Lacs)       2035 non-null   float64\n",
      "dtypes: float64(6), int64(1), object(1)\n",
      "memory usage: 143.1+ KB\n"
     ]
    }
   ],
   "source": [
    "data.info()"
   ]
  },
  {
   "cell_type": "code",
   "execution_count": 6,
   "id": "be911136",
   "metadata": {},
   "outputs": [
    {
     "data": {
      "text/html": [
       "<div>\n",
       "<style scoped>\n",
       "    .dataframe tbody tr th:only-of-type {\n",
       "        vertical-align: middle;\n",
       "    }\n",
       "\n",
       "    .dataframe tbody tr th {\n",
       "        vertical-align: top;\n",
       "    }\n",
       "\n",
       "    .dataframe thead th {\n",
       "        text-align: right;\n",
       "    }\n",
       "</style>\n",
       "<table border=\"1\" class=\"dataframe\">\n",
       "  <thead>\n",
       "    <tr style=\"text-align: right;\">\n",
       "      <th></th>\n",
       "      <th>Open</th>\n",
       "      <th>High</th>\n",
       "      <th>Low</th>\n",
       "      <th>Last</th>\n",
       "      <th>Close</th>\n",
       "      <th>Total Trade Quantity</th>\n",
       "      <th>Turnover (Lacs)</th>\n",
       "    </tr>\n",
       "  </thead>\n",
       "  <tbody>\n",
       "    <tr>\n",
       "      <th>count</th>\n",
       "      <td>2035.000000</td>\n",
       "      <td>2035.000000</td>\n",
       "      <td>2035.000000</td>\n",
       "      <td>2035.000000</td>\n",
       "      <td>2035.00000</td>\n",
       "      <td>2.035000e+03</td>\n",
       "      <td>2035.000000</td>\n",
       "    </tr>\n",
       "    <tr>\n",
       "      <th>mean</th>\n",
       "      <td>149.713735</td>\n",
       "      <td>151.992826</td>\n",
       "      <td>147.293931</td>\n",
       "      <td>149.474251</td>\n",
       "      <td>149.45027</td>\n",
       "      <td>2.335681e+06</td>\n",
       "      <td>3899.980565</td>\n",
       "    </tr>\n",
       "    <tr>\n",
       "      <th>std</th>\n",
       "      <td>48.664509</td>\n",
       "      <td>49.413109</td>\n",
       "      <td>47.931958</td>\n",
       "      <td>48.732570</td>\n",
       "      <td>48.71204</td>\n",
       "      <td>2.091778e+06</td>\n",
       "      <td>4570.767877</td>\n",
       "    </tr>\n",
       "    <tr>\n",
       "      <th>min</th>\n",
       "      <td>81.100000</td>\n",
       "      <td>82.800000</td>\n",
       "      <td>80.000000</td>\n",
       "      <td>81.000000</td>\n",
       "      <td>80.95000</td>\n",
       "      <td>3.961000e+04</td>\n",
       "      <td>37.040000</td>\n",
       "    </tr>\n",
       "    <tr>\n",
       "      <th>25%</th>\n",
       "      <td>120.025000</td>\n",
       "      <td>122.100000</td>\n",
       "      <td>118.300000</td>\n",
       "      <td>120.075000</td>\n",
       "      <td>120.05000</td>\n",
       "      <td>1.146444e+06</td>\n",
       "      <td>1427.460000</td>\n",
       "    </tr>\n",
       "    <tr>\n",
       "      <th>50%</th>\n",
       "      <td>141.500000</td>\n",
       "      <td>143.400000</td>\n",
       "      <td>139.600000</td>\n",
       "      <td>141.100000</td>\n",
       "      <td>141.25000</td>\n",
       "      <td>1.783456e+06</td>\n",
       "      <td>2512.030000</td>\n",
       "    </tr>\n",
       "    <tr>\n",
       "      <th>75%</th>\n",
       "      <td>157.175000</td>\n",
       "      <td>159.400000</td>\n",
       "      <td>155.150000</td>\n",
       "      <td>156.925000</td>\n",
       "      <td>156.90000</td>\n",
       "      <td>2.813594e+06</td>\n",
       "      <td>4539.015000</td>\n",
       "    </tr>\n",
       "    <tr>\n",
       "      <th>max</th>\n",
       "      <td>327.700000</td>\n",
       "      <td>328.750000</td>\n",
       "      <td>321.650000</td>\n",
       "      <td>325.950000</td>\n",
       "      <td>325.75000</td>\n",
       "      <td>2.919102e+07</td>\n",
       "      <td>55755.080000</td>\n",
       "    </tr>\n",
       "  </tbody>\n",
       "</table>\n",
       "</div>"
      ],
      "text/plain": [
       "              Open         High          Low         Last       Close  \\\n",
       "count  2035.000000  2035.000000  2035.000000  2035.000000  2035.00000   \n",
       "mean    149.713735   151.992826   147.293931   149.474251   149.45027   \n",
       "std      48.664509    49.413109    47.931958    48.732570    48.71204   \n",
       "min      81.100000    82.800000    80.000000    81.000000    80.95000   \n",
       "25%     120.025000   122.100000   118.300000   120.075000   120.05000   \n",
       "50%     141.500000   143.400000   139.600000   141.100000   141.25000   \n",
       "75%     157.175000   159.400000   155.150000   156.925000   156.90000   \n",
       "max     327.700000   328.750000   321.650000   325.950000   325.75000   \n",
       "\n",
       "       Total Trade Quantity  Turnover (Lacs)  \n",
       "count          2.035000e+03      2035.000000  \n",
       "mean           2.335681e+06      3899.980565  \n",
       "std            2.091778e+06      4570.767877  \n",
       "min            3.961000e+04        37.040000  \n",
       "25%            1.146444e+06      1427.460000  \n",
       "50%            1.783456e+06      2512.030000  \n",
       "75%            2.813594e+06      4539.015000  \n",
       "max            2.919102e+07     55755.080000  "
      ]
     },
     "execution_count": 6,
     "metadata": {},
     "output_type": "execute_result"
    }
   ],
   "source": [
    "data.describe()"
   ]
  },
  {
   "cell_type": "code",
   "execution_count": 7,
   "id": "f5ea7b1f",
   "metadata": {},
   "outputs": [
    {
     "data": {
      "text/plain": [
       "(2035,)"
      ]
     },
     "execution_count": 7,
     "metadata": {},
     "output_type": "execute_result"
    }
   ],
   "source": [
    "df = data.reset_index()['Close']\n",
    "df.shape"
   ]
  },
  {
   "cell_type": "code",
   "execution_count": 8,
   "id": "a233efd4",
   "metadata": {},
   "outputs": [
    {
     "data": {
      "text/plain": [
       "0    121.55\n",
       "1    120.90\n",
       "2    120.65\n",
       "3    117.60\n",
       "4    118.65\n",
       "Name: Close, dtype: float64"
      ]
     },
     "execution_count": 8,
     "metadata": {},
     "output_type": "execute_result"
    }
   ],
   "source": [
    "df.head()"
   ]
  },
  {
   "cell_type": "code",
   "execution_count": 9,
   "id": "22977aac",
   "metadata": {},
   "outputs": [
    {
     "data": {
      "image/png": "[encoded data removed]",
      "text/plain": [
       "<Figure size 1008x504 with 1 Axes>"
      ]
     },
     "metadata": {
      "needs_background": "light"
     },
     "output_type": "display_data"
    }
   ],
   "source": [
    "plt.figure(figsize=(14, 7))\n",
    "plt.plot(df)\n",
    "plt.show()\n"
   ]
  },
  {
   "cell_type": "code",
   "execution_count": 10,
   "id": "602e98a1",
   "metadata": {},
   "outputs": [
    {
     "data": {
      "text/plain": [
       "(2035, 1)"
      ]
     },
     "execution_count": 10,
     "metadata": {},
     "output_type": "execute_result"
    }
   ],
   "source": [
    "from sklearn.preprocessing import MinMaxScaler\n",
    "sc = MinMaxScaler(feature_range = (0, 1))\n",
    "df = sc.fit_transform(np.array(df).reshape(-1,1))\n",
    "df.shape"
   ]
  },
  {
   "cell_type": "code",
   "execution_count": 11,
   "id": "4117e5c3",
   "metadata": {},
   "outputs": [
    {
     "data": {
      "text/plain": [
       "array([[0.16584967],\n",
       "       [0.16319444],\n",
       "       [0.1621732 ],\n",
       "       ...,\n",
       "       [0.62622549],\n",
       "       [0.62214052],\n",
       "       [0.62418301]])"
      ]
     },
     "execution_count": 11,
     "metadata": {},
     "output_type": "execute_result"
    }
   ],
   "source": [
    "df"
   ]
  },
  {
   "cell_type": "code",
   "execution_count": 12,
   "id": "ffd5f8e0",
   "metadata": {},
   "outputs": [
    {
     "data": {
      "text/plain": [
       "(1628, 407)"
      ]
     },
     "execution_count": 12,
     "metadata": {},
     "output_type": "execute_result"
    }
   ],
   "source": [
    "train_size = int(len(df) * 0.80)\n",
    "test_size = len(df) - train_size\n",
    "train_size, test_size"
   ]
  },
  {
   "cell_type": "code",
   "execution_count": 13,
   "id": "0965783f",
   "metadata": {},
   "outputs": [],
   "source": [
    "train_data, test_data = df[0:train_size, :], df[train_size:len(df), :1]"
   ]
  },
  {
   "cell_type": "code",
   "execution_count": 14,
   "id": "553480db",
   "metadata": {},
   "outputs": [
    {
     "data": {
      "text/plain": [
       "array([[0.16584967],\n",
       "       [0.16319444],\n",
       "       [0.1621732 ],\n",
       "       ...,\n",
       "       [0.24877451],\n",
       "       [0.25245098],\n",
       "       [0.24795752]])"
      ]
     },
     "execution_count": 14,
     "metadata": {},
     "output_type": "execute_result"
    }
   ],
   "source": [
    "train_data"
   ]
  },
  {
   "cell_type": "code",
   "execution_count": 15,
   "id": "56b95dce",
   "metadata": {},
   "outputs": [],
   "source": [
    "def make_dataset(data, time_step):\n",
    "\td1, d2 = [], []\n",
    "\tfor i in range(len(data)-time_step-1):  \n",
    "\t\td1.append(data[i:(i + time_step), 0])\n",
    "\t\td2.append(data[i + time_step, 0])\n",
    "\treturn np.array(d1), np.array(d2)"
   ]
  },
  {
   "cell_type": "code",
   "execution_count": 16,
   "id": "66aa176b",
   "metadata": {},
   "outputs": [],
   "source": [
    "X_train, y_train = make_dataset(train_data, 100)\n",
    "X_test, y_test = make_dataset(test_data, 100)"
   ]
  },
  {
   "cell_type": "code",
   "execution_count": 17,
   "id": "da5d17db",
   "metadata": {},
   "outputs": [
    {
     "name": "stdout",
     "output_type": "stream",
     "text": [
      "(1527, 100)\n",
      "(1527,)\n"
     ]
    },
    {
     "data": {
      "text/plain": [
       "(None, None)"
      ]
     },
     "execution_count": 17,
     "metadata": {},
     "output_type": "execute_result"
    }
   ],
   "source": [
    "print(X_train.shape), print(y_train.shape)"
   ]
  },
  {
   "cell_type": "code",
   "execution_count": 18,
   "id": "1abd21fd",
   "metadata": {},
   "outputs": [
    {
     "name": "stdout",
     "output_type": "stream",
     "text": [
      "(306, 100)\n",
      "(306,)\n"
     ]
    },
    {
     "data": {
      "text/plain": [
       "(None, None)"
      ]
     },
     "execution_count": 18,
     "metadata": {},
     "output_type": "execute_result"
    }
   ],
   "source": [
    "print(X_test.shape), print(y_test.shape)"
   ]
  },
  {
   "cell_type": "code",
   "execution_count": 19,
   "id": "1363c341",
   "metadata": {},
   "outputs": [],
   "source": [
    "X_train = X_train.reshape(X_train.shape[0], X_train.shape[1], 1)\n",
    "X_test = X_test.reshape(X_test.shape[0], X_test.shape[1], 1)"
   ]
  },
  {
   "cell_type": "code",
   "execution_count": 20,
   "id": "d6c89bdb",
   "metadata": {},
   "outputs": [],
   "source": [
    "from tensorflow.keras.models import Sequential\n",
    "from tensorflow.keras.layers import Dense\n",
    "from tensorflow.keras.layers import LSTM"
   ]
  },
  {
   "cell_type": "code",
   "execution_count": 21,
   "id": "2b222ee6",
   "metadata": {},
   "outputs": [],
   "source": [
    "model = Sequential()\n",
    "model.add(LSTM(50, return_sequences = True, input_shape = (100, 1)))\n",
    "model.add(LSTM(50, return_sequences = True))\n",
    "model.add(LSTM(50))\n",
    "model.add(Dense(1))\n",
    "model.compile(loss = 'mean_squared_error', optimizer = 'adam')"
   ]
  },
  {
   "cell_type": "code",
   "execution_count": 22,
   "id": "8e56f7e4",
   "metadata": {},
   "outputs": [
    {
     "name": "stdout",
     "output_type": "stream",
     "text": [
      "Model: \"sequential\"\n",
      "_________________________________________________________________\n",
      "Layer (type)                 Output Shape              Param #   \n",
      "=================================================================\n",
      "lstm (LSTM)                  (None, 100, 50)           10400     \n",
      "_________________________________________________________________\n",
      "lstm_1 (LSTM)                (None, 100, 50)           20200     \n",
      "_________________________________________________________________\n",
      "lstm_2 (LSTM)                (None, 50)                20200     \n",
      "_________________________________________________________________\n",
      "dense (Dense)                (None, 1)                 51        \n",
      "=================================================================\n",
      "Total params: 50,851\n",
      "Trainable params: 50,851\n",
      "Non-trainable params: 0\n",
      "_________________________________________________________________\n"
     ]
    }
   ],
   "source": [
    "model.summary()"
   ]
  },
  {
   "cell_type": "code",
   "execution_count": 23,
   "id": "37deadd4",
   "metadata": {},
   "outputs": [
    {
     "name": "stdout",
     "output_type": "stream",
     "text": [
      "Epoch 1/100\n",
      "24/24 [==============================] - 5s 213ms/step - loss: 0.0085 - val_loss: 0.0223\n",
      "Epoch 2/100\n",
      "24/24 [==============================] - 4s 176ms/step - loss: 0.0014 - val_loss: 0.0078\n",
      "Epoch 3/100\n",
      "24/24 [==============================] - 5s 204ms/step - loss: 8.1298e-04 - val_loss: 0.0044\n",
      "Epoch 4/100\n",
      "24/24 [==============================] - 4s 172ms/step - loss: 7.4405e-04 - val_loss: 0.0047\n",
      "Epoch 5/100\n",
      "24/24 [==============================] - 4s 181ms/step - loss: 7.1545e-04 - val_loss: 0.0051\n",
      "Epoch 6/100\n",
      "24/24 [==============================] - 7s 274ms/step - loss: 6.8434e-04 - val_loss: 0.0042\n",
      "Epoch 7/100\n",
      "24/24 [==============================] - 4s 184ms/step - loss: 6.5991e-04 - val_loss: 0.0054\n",
      "Epoch 8/100\n",
      "24/24 [==============================] - 4s 175ms/step - loss: 6.2387e-04 - val_loss: 0.0065\n",
      "Epoch 9/100\n",
      "24/24 [==============================] - 4s 167ms/step - loss: 5.8560e-04 - val_loss: 0.0080\n",
      "Epoch 10/100\n",
      "24/24 [==============================] - 4s 163ms/step - loss: 5.8205e-04 - val_loss: 0.0133\n",
      "Epoch 11/100\n",
      "24/24 [==============================] - 4s 157ms/step - loss: 5.5445e-04 - val_loss: 0.0113\n",
      "Epoch 12/100\n",
      "24/24 [==============================] - 4s 160ms/step - loss: 5.3347e-04 - val_loss: 0.0114\n",
      "Epoch 13/100\n",
      "24/24 [==============================] - 4s 159ms/step - loss: 5.0961e-04 - val_loss: 0.0110\n",
      "Epoch 14/100\n",
      "24/24 [==============================] - 4s 159ms/step - loss: 4.8807e-04 - val_loss: 0.0114\n",
      "Epoch 15/100\n",
      "24/24 [==============================] - 4s 160ms/step - loss: 4.8664e-04 - val_loss: 0.0165\n",
      "Epoch 16/100\n",
      "24/24 [==============================] - 4s 160ms/step - loss: 4.8928e-04 - val_loss: 0.0097\n",
      "Epoch 17/100\n",
      "24/24 [==============================] - 4s 155ms/step - loss: 4.3143e-04 - val_loss: 0.0130\n",
      "Epoch 18/100\n",
      "24/24 [==============================] - 4s 155ms/step - loss: 4.1331e-04 - val_loss: 0.0103\n",
      "Epoch 19/100\n",
      "24/24 [==============================] - 4s 156ms/step - loss: 3.9412e-04 - val_loss: 0.0102\n",
      "Epoch 20/100\n",
      "24/24 [==============================] - 4s 157ms/step - loss: 3.8293e-04 - val_loss: 0.0102\n",
      "Epoch 21/100\n",
      "24/24 [==============================] - 4s 155ms/step - loss: 3.6660e-04 - val_loss: 0.0085\n",
      "Epoch 22/100\n",
      "24/24 [==============================] - 4s 155ms/step - loss: 3.6736e-04 - val_loss: 0.0078\n",
      "Epoch 23/100\n",
      "24/24 [==============================] - 4s 157ms/step - loss: 3.4141e-04 - val_loss: 0.0057\n",
      "Epoch 24/100\n",
      "24/24 [==============================] - 4s 150ms/step - loss: 3.3541e-04 - val_loss: 0.0063\n",
      "Epoch 25/100\n",
      "24/24 [==============================] - 4s 166ms/step - loss: 3.0873e-04 - val_loss: 0.0096\n",
      "Epoch 26/100\n",
      "24/24 [==============================] - 4s 155ms/step - loss: 2.9313e-04 - val_loss: 0.0077\n",
      "Epoch 27/100\n",
      "24/24 [==============================] - 4s 159ms/step - loss: 3.1394e-04 - val_loss: 0.0042\n",
      "Epoch 28/100\n",
      "24/24 [==============================] - 4s 159ms/step - loss: 2.7718e-04 - val_loss: 0.0056\n",
      "Epoch 29/100\n",
      "24/24 [==============================] - 4s 155ms/step - loss: 2.6563e-04 - val_loss: 0.0050\n",
      "Epoch 30/100\n",
      "24/24 [==============================] - 4s 163ms/step - loss: 2.6344e-04 - val_loss: 0.0024\n",
      "Epoch 31/100\n",
      "24/24 [==============================] - 4s 165ms/step - loss: 2.5686e-04 - val_loss: 0.0041\n",
      "Epoch 32/100\n",
      "24/24 [==============================] - 4s 184ms/step - loss: 2.3543e-04 - val_loss: 0.0039\n",
      "Epoch 33/100\n",
      "24/24 [==============================] - 4s 173ms/step - loss: 2.2652e-04 - val_loss: 0.0040\n",
      "Epoch 34/100\n",
      "24/24 [==============================] - 4s 174ms/step - loss: 2.2383e-04 - val_loss: 0.0059\n",
      "Epoch 35/100\n",
      "24/24 [==============================] - 4s 171ms/step - loss: 2.3096e-04 - val_loss: 0.0012\n",
      "Epoch 36/100\n",
      "24/24 [==============================] - 4s 166ms/step - loss: 2.4247e-04 - val_loss: 0.0011\n",
      "Epoch 37/100\n",
      "24/24 [==============================] - 4s 168ms/step - loss: 2.2603e-04 - val_loss: 0.0014\n",
      "Epoch 38/100\n",
      "24/24 [==============================] - 4s 163ms/step - loss: 2.0264e-04 - val_loss: 0.0018\n",
      "Epoch 39/100\n",
      "24/24 [==============================] - 4s 164ms/step - loss: 1.9299e-04 - val_loss: 0.0012\n",
      "Epoch 40/100\n",
      "24/24 [==============================] - 4s 163ms/step - loss: 1.8669e-04 - val_loss: 0.0019\n",
      "Epoch 41/100\n",
      "24/24 [==============================] - 4s 163ms/step - loss: 1.9254e-04 - val_loss: 0.0021\n",
      "Epoch 42/100\n",
      "24/24 [==============================] - 4s 160ms/step - loss: 1.8215e-04 - val_loss: 0.0012\n",
      "Epoch 43/100\n",
      "24/24 [==============================] - 4s 167ms/step - loss: 1.7658e-04 - val_loss: 6.1790e-04\n",
      "Epoch 44/100\n",
      "24/24 [==============================] - 4s 158ms/step - loss: 2.0730e-04 - val_loss: 0.0013\n",
      "Epoch 45/100\n",
      "24/24 [==============================] - 4s 161ms/step - loss: 1.7268e-04 - val_loss: 0.0021\n",
      "Epoch 46/100\n",
      "24/24 [==============================] - 4s 160ms/step - loss: 1.6738e-04 - val_loss: 0.0011\n",
      "Epoch 47/100\n",
      "24/24 [==============================] - 4s 162ms/step - loss: 1.6804e-04 - val_loss: 0.0010\n",
      "Epoch 48/100\n",
      "24/24 [==============================] - 4s 160ms/step - loss: 1.7170e-04 - val_loss: 0.0013\n",
      "Epoch 49/100\n",
      "24/24 [==============================] - 4s 162ms/step - loss: 1.6004e-04 - val_loss: 8.2439e-04\n",
      "Epoch 50/100\n",
      "24/24 [==============================] - 4s 158ms/step - loss: 1.5514e-04 - val_loss: 5.6256e-04\n",
      "Epoch 51/100\n",
      "24/24 [==============================] - 4s 159ms/step - loss: 1.5548e-04 - val_loss: 5.5593e-04\n",
      "Epoch 52/100\n",
      "24/24 [==============================] - 4s 158ms/step - loss: 1.4992e-04 - val_loss: 0.0011\n",
      "Epoch 53/100\n",
      "24/24 [==============================] - 4s 163ms/step - loss: 1.4331e-04 - val_loss: 5.6571e-04\n",
      "Epoch 54/100\n",
      "24/24 [==============================] - 4s 166ms/step - loss: 1.4004e-04 - val_loss: 8.2712e-04\n",
      "Epoch 55/100\n",
      "24/24 [==============================] - 4s 178ms/step - loss: 1.6339e-04 - val_loss: 6.2861e-04\n",
      "Epoch 56/100\n",
      "24/24 [==============================] - 4s 161ms/step - loss: 1.4268e-04 - val_loss: 0.0010\n",
      "Epoch 57/100\n",
      "24/24 [==============================] - 4s 159ms/step - loss: 1.4895e-04 - val_loss: 7.5990e-04\n",
      "Epoch 58/100\n",
      "24/24 [==============================] - 4s 164ms/step - loss: 1.4144e-04 - val_loss: 6.6655e-04\n",
      "Epoch 59/100\n",
      "24/24 [==============================] - 4s 160ms/step - loss: 1.3820e-04 - val_loss: 5.8944e-04\n",
      "Epoch 60/100\n",
      "24/24 [==============================] - 4s 166ms/step - loss: 1.6893e-04 - val_loss: 6.0206e-04\n",
      "Epoch 61/100\n",
      "24/24 [==============================] - 4s 159ms/step - loss: 1.3695e-04 - val_loss: 9.8640e-04\n",
      "Epoch 62/100\n",
      "24/24 [==============================] - 4s 161ms/step - loss: 1.3424e-04 - val_loss: 5.8815e-04\n",
      "Epoch 63/100\n",
      "24/24 [==============================] - 4s 157ms/step - loss: 1.7739e-04 - val_loss: 5.9098e-04\n",
      "Epoch 64/100\n",
      "24/24 [==============================] - 4s 157ms/step - loss: 1.3802e-04 - val_loss: 6.1641e-04\n",
      "Epoch 65/100\n",
      "24/24 [==============================] - 4s 157ms/step - loss: 1.3716e-04 - val_loss: 7.0686e-04\n",
      "Epoch 66/100\n",
      "24/24 [==============================] - 4s 165ms/step - loss: 1.6154e-04 - val_loss: 0.0020\n",
      "Epoch 67/100\n",
      "24/24 [==============================] - 4s 157ms/step - loss: 1.8184e-04 - val_loss: 0.0010\n",
      "Epoch 68/100\n",
      "24/24 [==============================] - 4s 158ms/step - loss: 1.3875e-04 - val_loss: 0.0023\n",
      "Epoch 69/100\n",
      "24/24 [==============================] - 4s 161ms/step - loss: 1.4545e-04 - val_loss: 9.7588e-04\n",
      "Epoch 70/100\n",
      "24/24 [==============================] - 4s 160ms/step - loss: 1.4039e-04 - val_loss: 6.0957e-04\n",
      "Epoch 71/100\n",
      "24/24 [==============================] - 4s 161ms/step - loss: 1.4004e-04 - val_loss: 9.7105e-04\n",
      "Epoch 72/100\n",
      "24/24 [==============================] - 4s 161ms/step - loss: 1.4706e-04 - val_loss: 0.0023\n",
      "Epoch 73/100\n",
      "24/24 [==============================] - 4s 159ms/step - loss: 1.4588e-04 - val_loss: 0.0017\n",
      "Epoch 74/100\n",
      "24/24 [==============================] - 4s 161ms/step - loss: 1.4854e-04 - val_loss: 0.0015\n",
      "Epoch 75/100\n",
      "24/24 [==============================] - 4s 167ms/step - loss: 1.4490e-04 - val_loss: 8.8175e-04\n",
      "Epoch 76/100\n",
      "24/24 [==============================] - 4s 167ms/step - loss: 1.3199e-04 - val_loss: 6.3338e-04\n",
      "Epoch 77/100\n"
     ]
    },
    {
     "name": "stdout",
     "output_type": "stream",
     "text": [
      "24/24 [==============================] - 4s 159ms/step - loss: 1.3188e-04 - val_loss: 0.0015\n",
      "Epoch 78/100\n",
      "24/24 [==============================] - 4s 162ms/step - loss: 1.3463e-04 - val_loss: 9.3771e-04\n",
      "Epoch 79/100\n",
      "24/24 [==============================] - 4s 162ms/step - loss: 1.2987e-04 - val_loss: 0.0012\n",
      "Epoch 80/100\n",
      "24/24 [==============================] - 4s 160ms/step - loss: 1.3928e-04 - val_loss: 8.6515e-04\n",
      "Epoch 81/100\n",
      "24/24 [==============================] - 4s 164ms/step - loss: 1.2797e-04 - val_loss: 7.4423e-04\n",
      "Epoch 82/100\n",
      "24/24 [==============================] - 4s 165ms/step - loss: 1.2887e-04 - val_loss: 8.7405e-04\n",
      "Epoch 83/100\n",
      "24/24 [==============================] - 4s 162ms/step - loss: 1.3387e-04 - val_loss: 6.9885e-04\n",
      "Epoch 84/100\n",
      "24/24 [==============================] - 4s 160ms/step - loss: 1.3836e-04 - val_loss: 6.7591e-04\n",
      "Epoch 85/100\n",
      "24/24 [==============================] - 4s 163ms/step - loss: 1.5030e-04 - val_loss: 8.2067e-04\n",
      "Epoch 86/100\n",
      "24/24 [==============================] - 4s 160ms/step - loss: 1.3888e-04 - val_loss: 6.9936e-04\n",
      "Epoch 87/100\n",
      "24/24 [==============================] - 4s 157ms/step - loss: 1.2681e-04 - val_loss: 8.0193e-04\n",
      "Epoch 88/100\n",
      "24/24 [==============================] - 4s 159ms/step - loss: 1.2948e-04 - val_loss: 0.0010\n",
      "Epoch 89/100\n",
      "24/24 [==============================] - 4s 158ms/step - loss: 1.3538e-04 - val_loss: 9.1032e-04\n",
      "Epoch 90/100\n",
      "24/24 [==============================] - 4s 158ms/step - loss: 1.3183e-04 - val_loss: 0.0012\n",
      "Epoch 91/100\n",
      "24/24 [==============================] - 4s 164ms/step - loss: 1.3692e-04 - val_loss: 0.0014\n",
      "Epoch 92/100\n",
      "24/24 [==============================] - 4s 165ms/step - loss: 1.3737e-04 - val_loss: 8.7343e-04\n",
      "Epoch 93/100\n",
      "24/24 [==============================] - 4s 159ms/step - loss: 1.2868e-04 - val_loss: 7.8627e-04\n",
      "Epoch 94/100\n",
      "24/24 [==============================] - 4s 157ms/step - loss: 1.2939e-04 - val_loss: 0.0013\n",
      "Epoch 95/100\n",
      "24/24 [==============================] - 4s 158ms/step - loss: 1.3079e-04 - val_loss: 0.0013\n",
      "Epoch 96/100\n",
      "24/24 [==============================] - 4s 157ms/step - loss: 1.3433e-04 - val_loss: 7.7330e-04\n",
      "Epoch 97/100\n",
      "24/24 [==============================] - 4s 160ms/step - loss: 1.5183e-04 - val_loss: 7.5760e-04\n",
      "Epoch 98/100\n",
      "24/24 [==============================] - 4s 159ms/step - loss: 1.7406e-04 - val_loss: 0.0025\n",
      "Epoch 99/100\n",
      "24/24 [==============================] - 4s 158ms/step - loss: 1.3454e-04 - val_loss: 0.0012\n",
      "Epoch 100/100\n",
      "24/24 [==============================] - 4s 160ms/step - loss: 1.3389e-04 - val_loss: 9.4829e-04\n"
     ]
    },
    {
     "data": {
      "text/plain": [
       "<tensorflow.python.keras.callbacks.History at 0x2741d84d1f0>"
      ]
     },
     "execution_count": 23,
     "metadata": {},
     "output_type": "execute_result"
    }
   ],
   "source": [
    "model.fit(X_train, y_train, validation_data = (X_test,y_test), epochs = 100, batch_size = 64, verbose = 1)"
   ]
  },
  {
   "cell_type": "code",
   "execution_count": 24,
   "id": "5b184b7c",
   "metadata": {},
   "outputs": [],
   "source": [
    "train_pred = sc.inverse_transform(model.predict(X_train))\n",
    "test_pred = sc.inverse_transform(model.predict(X_test))"
   ]
  },
  {
   "cell_type": "code",
   "execution_count": 25,
   "id": "7fa291c7",
   "metadata": {},
   "outputs": [
    {
     "data": {
      "text/plain": [
       "(134.17141680999316, 246.45638207746183)"
      ]
     },
     "execution_count": 25,
     "metadata": {},
     "output_type": "execute_result"
    }
   ],
   "source": [
    "from sklearn.metrics import mean_squared_error\n",
    "math.sqrt(mean_squared_error(y_train, train_pred)), math.sqrt(mean_squared_error(y_test, test_pred))"
   ]
  },
  {
   "cell_type": "code",
   "execution_count": 26,
   "id": "1133966f",
   "metadata": {},
   "outputs": [],
   "source": [
    "look_back = 100\n",
    "trainPredPlot = np.empty_like(df)\n",
    "trainPredPlot[:, :] = np.nan\n",
    "trainPredPlot[look_back:len(train_pred) + look_back, :] = train_pred"
   ]
  },
  {
   "cell_type": "code",
   "execution_count": 27,
   "id": "9c2b9396",
   "metadata": {},
   "outputs": [],
   "source": [
    "testPredPlot = np.empty_like(df)\n",
    "testPredPlot[:, :] = np.nan\n",
    "testPredPlot[len(train_pred) + (look_back*2) + 1:len(df) - 1, :] = test_pred"
   ]
  },
  {
   "cell_type": "code",
   "execution_count": 28,
   "id": "59745b8e",
   "metadata": {},
   "outputs": [
    {
     "data": {
      "image/png": "[encoded data removed]",
      "text/plain": [
       "<Figure size 1008x504 with 1 Axes>"
      ]
     },
     "metadata": {
      "needs_background": "light"
     },
     "output_type": "display_data"
    }
   ],
   "source": [
    "plt.figure(figsize=(14, 7))\n",
    "plt.plot(sc.inverse_transform(df))\n",
    "plt.plot(trainPredPlot)\n",
    "plt.plot(testPredPlot)\n",
    "plt.show()"
   ]
  },
  {
   "cell_type": "code",
   "execution_count": 29,
   "id": "631a82eb",
   "metadata": {},
   "outputs": [
    {
     "data": {
      "text/plain": [
       "407"
      ]
     },
     "execution_count": 29,
     "metadata": {},
     "output_type": "execute_result"
    }
   ],
   "source": [
    "len(test_data)"
   ]
  },
  {
   "cell_type": "code",
   "execution_count": 30,
   "id": "23c256f8",
   "metadata": {},
   "outputs": [
    {
     "data": {
      "text/plain": [
       "(1, 100)"
      ]
     },
     "execution_count": 30,
     "metadata": {},
     "output_type": "execute_result"
    }
   ],
   "source": [
    "X_input = test_data[307:].reshape(1,-1)\n",
    "X_input.shape"
   ]
  },
  {
   "cell_type": "code",
   "execution_count": 31,
   "id": "95f54dd0",
   "metadata": {},
   "outputs": [],
   "source": [
    "temp = list(X_input)\n",
    "temp = temp[0].tolist()"
   ]
  },
  {
   "cell_type": "code",
   "execution_count": 32,
   "id": "0e74a0cf",
   "metadata": {},
   "outputs": [
    {
     "data": {
      "text/plain": [
       "[0.8527369281045751,\n",
       " 0.8621323529411764,\n",
       " 0.8345588235294117,\n",
       " 0.84375,\n",
       " 0.7146650326797386,\n",
       " 0.6605392156862745,\n",
       " 0.6542075163398693,\n",
       " 0.6803513071895424,\n",
       " 0.6689133986928104,\n",
       " 0.6642156862745099,\n",
       " 0.678921568627451,\n",
       " 0.6913807189542482,\n",
       " 0.7089460784313726,\n",
       " 0.7226307189542485,\n",
       " 0.7340686274509802,\n",
       " 0.7212009803921569,\n",
       " 0.749795751633987,\n",
       " 0.7689950980392157,\n",
       " 0.7446895424836601,\n",
       " 0.7120098039215685,\n",
       " 0.7467320261437909,\n",
       " 0.7549019607843137,\n",
       " 0.7604166666666667,\n",
       " 0.7598039215686274,\n",
       " 0.7465277777777777,\n",
       " 0.7624591503267975,\n",
       " 0.7706290849673203,\n",
       " 0.8041258169934642,\n",
       " 0.7810457516339868,\n",
       " 0.7941176470588236,\n",
       " 0.7602124183006536,\n",
       " 0.7348856209150327,\n",
       " 0.7240604575163399,\n",
       " 0.7399918300653596,\n",
       " 0.749795751633987,\n",
       " 0.7614379084967322,\n",
       " 0.7542892156862746,\n",
       " 0.7475490196078431,\n",
       " 0.769607843137255,\n",
       " 0.7495915032679739,\n",
       " 0.8171977124183007,\n",
       " 0.8020833333333335,\n",
       " 0.7773692810457518,\n",
       " 0.7571486928104576,\n",
       " 0.7937091503267975,\n",
       " 0.7916666666666667,\n",
       " 0.7714460784313726,\n",
       " 0.7526552287581698,\n",
       " 0.7269199346405228,\n",
       " 0.6629901960784313,\n",
       " 0.6819852941176472,\n",
       " 0.6441993464052288,\n",
       " 0.6215277777777778,\n",
       " 0.6439950980392156,\n",
       " 0.6631944444444445,\n",
       " 0.6754493464052289,\n",
       " 0.6370506535947713,\n",
       " 0.6460375816993464,\n",
       " 0.6589052287581699,\n",
       " 0.6587009803921569,\n",
       " 0.6779003267973858,\n",
       " 0.6319444444444445,\n",
       " 0.6311274509803921,\n",
       " 0.627859477124183,\n",
       " 0.647671568627451,\n",
       " 0.6399101307189542,\n",
       " 0.6348039215686274,\n",
       " 0.6386846405228759,\n",
       " 0.6233660130718954,\n",
       " 0.627450980392157,\n",
       " 0.6397058823529412,\n",
       " 0.6470588235294118,\n",
       " 0.661968954248366,\n",
       " 0.6707516339869282,\n",
       " 0.6519607843137255,\n",
       " 0.6311274509803921,\n",
       " 0.6129493464052288,\n",
       " 0.6376633986928105,\n",
       " 0.6225490196078431,\n",
       " 0.627450980392157,\n",
       " 0.6333741830065359,\n",
       " 0.6264297385620916,\n",
       " 0.6362336601307189,\n",
       " 0.5831290849673202,\n",
       " 0.5778186274509804,\n",
       " 0.5723039215686275,\n",
       " 0.5800653594771241,\n",
       " 0.5761846405228758,\n",
       " 0.5516748366013072,\n",
       " 0.5788398692810458,\n",
       " 0.625,\n",
       " 0.6358251633986928,\n",
       " 0.6294934640522877,\n",
       " 0.6288807189542484,\n",
       " 0.6276552287581699,\n",
       " 0.6223447712418301,\n",
       " 0.6337826797385621,\n",
       " 0.6262254901960784,\n",
       " 0.622140522875817,\n",
       " 0.6241830065359477]"
      ]
     },
     "execution_count": 32,
     "metadata": {},
     "output_type": "execute_result"
    }
   ],
   "source": [
    "temp"
   ]
  },
  {
   "cell_type": "code",
   "execution_count": 33,
   "id": "5317bb9d",
   "metadata": {},
   "outputs": [
    {
     "name": "stdout",
     "output_type": "stream",
     "text": [
      "[0.6154162]\n",
      "101\n",
      "Day 1 input [0.86213235 0.83455882 0.84375    0.71466503 0.66053922 0.65420752\n",
      " 0.68035131 0.6689134  0.66421569 0.67892157 0.69138072 0.70894608\n",
      " 0.72263072 0.73406863 0.72120098 0.74979575 0.7689951  0.74468954\n",
      " 0.7120098  0.74673203 0.75490196 0.76041667 0.75980392 0.74652778\n",
      " 0.76245915 0.77062908 0.80412582 0.78104575 0.79411765 0.76021242\n",
      " 0.73488562 0.72406046 0.73999183 0.74979575 0.76143791 0.75428922\n",
      " 0.74754902 0.76960784 0.7495915  0.81719771 0.80208333 0.77736928\n",
      " 0.75714869 0.79370915 0.79166667 0.77144608 0.75265523 0.72691993\n",
      " 0.6629902  0.68198529 0.64419935 0.62152778 0.6439951  0.66319444\n",
      " 0.67544935 0.63705065 0.64603758 0.65890523 0.65870098 0.67790033\n",
      " 0.63194444 0.63112745 0.62785948 0.64767157 0.63991013 0.63480392\n",
      " 0.63868464 0.62336601 0.62745098 0.63970588 0.64705882 0.66196895\n",
      " 0.67075163 0.65196078 0.63112745 0.61294935 0.6376634  0.62254902\n",
      " 0.62745098 0.63337418 0.62642974 0.63623366 0.58312908 0.57781863\n",
      " 0.57230392 0.58006536 0.57618464 0.55167484 0.57883987 0.625\n",
      " 0.63582516 0.62949346 0.62888072 0.62765523 0.62234477 0.63378268\n",
      " 0.62622549 0.62214052 0.62418301 0.61541623]\n",
      "Day 1 output [[0.5992149]]\n",
      "Day 2 input [0.83455882 0.84375    0.71466503 0.66053922 0.65420752 0.68035131\n",
      " 0.6689134  0.66421569 0.67892157 0.69138072 0.70894608 0.72263072\n",
      " 0.73406863 0.72120098 0.74979575 0.7689951  0.74468954 0.7120098\n",
      " 0.74673203 0.75490196 0.76041667 0.75980392 0.74652778 0.76245915\n",
      " 0.77062908 0.80412582 0.78104575 0.79411765 0.76021242 0.73488562\n",
      " 0.72406046 0.73999183 0.74979575 0.76143791 0.75428922 0.74754902\n",
      " 0.76960784 0.7495915  0.81719771 0.80208333 0.77736928 0.75714869\n",
      " 0.79370915 0.79166667 0.77144608 0.75265523 0.72691993 0.6629902\n",
      " 0.68198529 0.64419935 0.62152778 0.6439951  0.66319444 0.67544935\n",
      " 0.63705065 0.64603758 0.65890523 0.65870098 0.67790033 0.63194444\n",
      " 0.63112745 0.62785948 0.64767157 0.63991013 0.63480392 0.63868464\n",
      " 0.62336601 0.62745098 0.63970588 0.64705882 0.66196895 0.67075163\n",
      " 0.65196078 0.63112745 0.61294935 0.6376634  0.62254902 0.62745098\n",
      " 0.63337418 0.62642974 0.63623366 0.58312908 0.57781863 0.57230392\n",
      " 0.58006536 0.57618464 0.55167484 0.57883987 0.625      0.63582516\n",
      " 0.62949346 0.62888072 0.62765523 0.62234477 0.63378268 0.62622549\n",
      " 0.62214052 0.62418301 0.61541623 0.59921491]\n",
      "Day 2 output [[0.580792]]\n",
      "Day 3 input [0.84375    0.71466503 0.66053922 0.65420752 0.68035131 0.6689134\n",
      " 0.66421569 0.67892157 0.69138072 0.70894608 0.72263072 0.73406863\n",
      " 0.72120098 0.74979575 0.7689951  0.74468954 0.7120098  0.74673203\n",
      " 0.75490196 0.76041667 0.75980392 0.74652778 0.76245915 0.77062908\n",
      " 0.80412582 0.78104575 0.79411765 0.76021242 0.73488562 0.72406046\n",
      " 0.73999183 0.74979575 0.76143791 0.75428922 0.74754902 0.76960784\n",
      " 0.7495915  0.81719771 0.80208333 0.77736928 0.75714869 0.79370915\n",
      " 0.79166667 0.77144608 0.75265523 0.72691993 0.6629902  0.68198529\n",
      " 0.64419935 0.62152778 0.6439951  0.66319444 0.67544935 0.63705065\n",
      " 0.64603758 0.65890523 0.65870098 0.67790033 0.63194444 0.63112745\n",
      " 0.62785948 0.64767157 0.63991013 0.63480392 0.63868464 0.62336601\n",
      " 0.62745098 0.63970588 0.64705882 0.66196895 0.67075163 0.65196078\n",
      " 0.63112745 0.61294935 0.6376634  0.62254902 0.62745098 0.63337418\n",
      " 0.62642974 0.63623366 0.58312908 0.57781863 0.57230392 0.58006536\n",
      " 0.57618464 0.55167484 0.57883987 0.625      0.63582516 0.62949346\n",
      " 0.62888072 0.62765523 0.62234477 0.63378268 0.62622549 0.62214052\n",
      " 0.62418301 0.61541623 0.59921491 0.58079201]\n",
      "Day 3 output [[0.56433076]]\n",
      "Day 4 input [0.71466503 0.66053922 0.65420752 0.68035131 0.6689134  0.66421569\n",
      " 0.67892157 0.69138072 0.70894608 0.72263072 0.73406863 0.72120098\n",
      " 0.74979575 0.7689951  0.74468954 0.7120098  0.74673203 0.75490196\n",
      " 0.76041667 0.75980392 0.74652778 0.76245915 0.77062908 0.80412582\n",
      " 0.78104575 0.79411765 0.76021242 0.73488562 0.72406046 0.73999183\n",
      " 0.74979575 0.76143791 0.75428922 0.74754902 0.76960784 0.7495915\n",
      " 0.81719771 0.80208333 0.77736928 0.75714869 0.79370915 0.79166667\n",
      " 0.77144608 0.75265523 0.72691993 0.6629902  0.68198529 0.64419935\n",
      " 0.62152778 0.6439951  0.66319444 0.67544935 0.63705065 0.64603758\n",
      " 0.65890523 0.65870098 0.67790033 0.63194444 0.63112745 0.62785948\n",
      " 0.64767157 0.63991013 0.63480392 0.63868464 0.62336601 0.62745098\n",
      " 0.63970588 0.64705882 0.66196895 0.67075163 0.65196078 0.63112745\n",
      " 0.61294935 0.6376634  0.62254902 0.62745098 0.63337418 0.62642974\n",
      " 0.63623366 0.58312908 0.57781863 0.57230392 0.58006536 0.57618464\n",
      " 0.55167484 0.57883987 0.625      0.63582516 0.62949346 0.62888072\n",
      " 0.62765523 0.62234477 0.63378268 0.62622549 0.62214052 0.62418301\n",
      " 0.61541623 0.59921491 0.58079201 0.56433076]\n",
      "Day 4 output [[0.5492434]]\n",
      "Day 5 input [0.66053922 0.65420752 0.68035131 0.6689134  0.66421569 0.67892157\n",
      " 0.69138072 0.70894608 0.72263072 0.73406863 0.72120098 0.74979575\n",
      " 0.7689951  0.74468954 0.7120098  0.74673203 0.75490196 0.76041667\n",
      " 0.75980392 0.74652778 0.76245915 0.77062908 0.80412582 0.78104575\n",
      " 0.79411765 0.76021242 0.73488562 0.72406046 0.73999183 0.74979575\n",
      " 0.76143791 0.75428922 0.74754902 0.76960784 0.7495915  0.81719771\n",
      " 0.80208333 0.77736928 0.75714869 0.79370915 0.79166667 0.77144608\n",
      " 0.75265523 0.72691993 0.6629902  0.68198529 0.64419935 0.62152778\n",
      " 0.6439951  0.66319444 0.67544935 0.63705065 0.64603758 0.65890523\n",
      " 0.65870098 0.67790033 0.63194444 0.63112745 0.62785948 0.64767157\n",
      " 0.63991013 0.63480392 0.63868464 0.62336601 0.62745098 0.63970588\n",
      " 0.64705882 0.66196895 0.67075163 0.65196078 0.63112745 0.61294935\n",
      " 0.6376634  0.62254902 0.62745098 0.63337418 0.62642974 0.63623366\n",
      " 0.58312908 0.57781863 0.57230392 0.58006536 0.57618464 0.55167484\n",
      " 0.57883987 0.625      0.63582516 0.62949346 0.62888072 0.62765523\n",
      " 0.62234477 0.63378268 0.62622549 0.62214052 0.62418301 0.61541623\n",
      " 0.59921491 0.58079201 0.56433076 0.54924339]\n",
      "Day 5 output [[0.53512675]]\n",
      "Day 6 input [0.65420752 0.68035131 0.6689134  0.66421569 0.67892157 0.69138072\n",
      " 0.70894608 0.72263072 0.73406863 0.72120098 0.74979575 0.7689951\n",
      " 0.74468954 0.7120098  0.74673203 0.75490196 0.76041667 0.75980392\n",
      " 0.74652778 0.76245915 0.77062908 0.80412582 0.78104575 0.79411765\n",
      " 0.76021242 0.73488562 0.72406046 0.73999183 0.74979575 0.76143791\n",
      " 0.75428922 0.74754902 0.76960784 0.7495915  0.81719771 0.80208333\n",
      " 0.77736928 0.75714869 0.79370915 0.79166667 0.77144608 0.75265523\n",
      " 0.72691993 0.6629902  0.68198529 0.64419935 0.62152778 0.6439951\n",
      " 0.66319444 0.67544935 0.63705065 0.64603758 0.65890523 0.65870098\n",
      " 0.67790033 0.63194444 0.63112745 0.62785948 0.64767157 0.63991013\n",
      " 0.63480392 0.63868464 0.62336601 0.62745098 0.63970588 0.64705882\n",
      " 0.66196895 0.67075163 0.65196078 0.63112745 0.61294935 0.6376634\n",
      " 0.62254902 0.62745098 0.63337418 0.62642974 0.63623366 0.58312908\n",
      " 0.57781863 0.57230392 0.58006536 0.57618464 0.55167484 0.57883987\n",
      " 0.625      0.63582516 0.62949346 0.62888072 0.62765523 0.62234477\n",
      " 0.63378268 0.62622549 0.62214052 0.62418301 0.61541623 0.59921491\n",
      " 0.58079201 0.56433076 0.54924339 0.53512675]\n",
      "Day 6 output [[0.5219555]]\n",
      "Day 7 input [0.68035131 0.6689134  0.66421569 0.67892157 0.69138072 0.70894608\n",
      " 0.72263072 0.73406863 0.72120098 0.74979575 0.7689951  0.74468954\n",
      " 0.7120098  0.74673203 0.75490196 0.76041667 0.75980392 0.74652778\n",
      " 0.76245915 0.77062908 0.80412582 0.78104575 0.79411765 0.76021242\n",
      " 0.73488562 0.72406046 0.73999183 0.74979575 0.76143791 0.75428922\n",
      " 0.74754902 0.76960784 0.7495915  0.81719771 0.80208333 0.77736928\n",
      " 0.75714869 0.79370915 0.79166667 0.77144608 0.75265523 0.72691993\n",
      " 0.6629902  0.68198529 0.64419935 0.62152778 0.6439951  0.66319444\n",
      " 0.67544935 0.63705065 0.64603758 0.65890523 0.65870098 0.67790033\n",
      " 0.63194444 0.63112745 0.62785948 0.64767157 0.63991013 0.63480392\n",
      " 0.63868464 0.62336601 0.62745098 0.63970588 0.64705882 0.66196895\n",
      " 0.67075163 0.65196078 0.63112745 0.61294935 0.6376634  0.62254902\n",
      " 0.62745098 0.63337418 0.62642974 0.63623366 0.58312908 0.57781863\n",
      " 0.57230392 0.58006536 0.57618464 0.55167484 0.57883987 0.625\n",
      " 0.63582516 0.62949346 0.62888072 0.62765523 0.62234477 0.63378268\n",
      " 0.62622549 0.62214052 0.62418301 0.61541623 0.59921491 0.58079201\n",
      " 0.56433076 0.54924339 0.53512675 0.52195549]\n",
      "Day 7 output [[0.50983495]]\n",
      "Day 8 input [0.6689134  0.66421569 0.67892157 0.69138072 0.70894608 0.72263072\n",
      " 0.73406863 0.72120098 0.74979575 0.7689951  0.74468954 0.7120098\n",
      " 0.74673203 0.75490196 0.76041667 0.75980392 0.74652778 0.76245915\n",
      " 0.77062908 0.80412582 0.78104575 0.79411765 0.76021242 0.73488562\n",
      " 0.72406046 0.73999183 0.74979575 0.76143791 0.75428922 0.74754902\n",
      " 0.76960784 0.7495915  0.81719771 0.80208333 0.77736928 0.75714869\n",
      " 0.79370915 0.79166667 0.77144608 0.75265523 0.72691993 0.6629902\n",
      " 0.68198529 0.64419935 0.62152778 0.6439951  0.66319444 0.67544935\n",
      " 0.63705065 0.64603758 0.65890523 0.65870098 0.67790033 0.63194444\n",
      " 0.63112745 0.62785948 0.64767157 0.63991013 0.63480392 0.63868464\n",
      " 0.62336601 0.62745098 0.63970588 0.64705882 0.66196895 0.67075163\n",
      " 0.65196078 0.63112745 0.61294935 0.6376634  0.62254902 0.62745098\n",
      " 0.63337418 0.62642974 0.63623366 0.58312908 0.57781863 0.57230392\n",
      " 0.58006536 0.57618464 0.55167484 0.57883987 0.625      0.63582516\n",
      " 0.62949346 0.62888072 0.62765523 0.62234477 0.63378268 0.62622549\n",
      " 0.62214052 0.62418301 0.61541623 0.59921491 0.58079201 0.56433076\n",
      " 0.54924339 0.53512675 0.52195549 0.50983495]\n",
      "Day 8 output [[0.49886477]]\n",
      "Day 9 input [0.66421569 0.67892157 0.69138072 0.70894608 0.72263072 0.73406863\n",
      " 0.72120098 0.74979575 0.7689951  0.74468954 0.7120098  0.74673203\n",
      " 0.75490196 0.76041667 0.75980392 0.74652778 0.76245915 0.77062908\n",
      " 0.80412582 0.78104575 0.79411765 0.76021242 0.73488562 0.72406046\n",
      " 0.73999183 0.74979575 0.76143791 0.75428922 0.74754902 0.76960784\n",
      " 0.7495915  0.81719771 0.80208333 0.77736928 0.75714869 0.79370915\n",
      " 0.79166667 0.77144608 0.75265523 0.72691993 0.6629902  0.68198529\n",
      " 0.64419935 0.62152778 0.6439951  0.66319444 0.67544935 0.63705065\n",
      " 0.64603758 0.65890523 0.65870098 0.67790033 0.63194444 0.63112745\n",
      " 0.62785948 0.64767157 0.63991013 0.63480392 0.63868464 0.62336601\n",
      " 0.62745098 0.63970588 0.64705882 0.66196895 0.67075163 0.65196078\n",
      " 0.63112745 0.61294935 0.6376634  0.62254902 0.62745098 0.63337418\n",
      " 0.62642974 0.63623366 0.58312908 0.57781863 0.57230392 0.58006536\n",
      " 0.57618464 0.55167484 0.57883987 0.625      0.63582516 0.62949346\n",
      " 0.62888072 0.62765523 0.62234477 0.63378268 0.62622549 0.62214052\n",
      " 0.62418301 0.61541623 0.59921491 0.58079201 0.56433076 0.54924339\n",
      " 0.53512675 0.52195549 0.50983495 0.49886477]\n",
      "Day 9 output [[0.48908684]]\n",
      "Day 10 input [0.67892157 0.69138072 0.70894608 0.72263072 0.73406863 0.72120098\n",
      " 0.74979575 0.7689951  0.74468954 0.7120098  0.74673203 0.75490196\n",
      " 0.76041667 0.75980392 0.74652778 0.76245915 0.77062908 0.80412582\n",
      " 0.78104575 0.79411765 0.76021242 0.73488562 0.72406046 0.73999183\n",
      " 0.74979575 0.76143791 0.75428922 0.74754902 0.76960784 0.7495915\n",
      " 0.81719771 0.80208333 0.77736928 0.75714869 0.79370915 0.79166667\n",
      " 0.77144608 0.75265523 0.72691993 0.6629902  0.68198529 0.64419935\n",
      " 0.62152778 0.6439951  0.66319444 0.67544935 0.63705065 0.64603758\n",
      " 0.65890523 0.65870098 0.67790033 0.63194444 0.63112745 0.62785948\n",
      " 0.64767157 0.63991013 0.63480392 0.63868464 0.62336601 0.62745098\n",
      " 0.63970588 0.64705882 0.66196895 0.67075163 0.65196078 0.63112745\n",
      " 0.61294935 0.6376634  0.62254902 0.62745098 0.63337418 0.62642974\n",
      " 0.63623366 0.58312908 0.57781863 0.57230392 0.58006536 0.57618464\n",
      " 0.55167484 0.57883987 0.625      0.63582516 0.62949346 0.62888072\n",
      " 0.62765523 0.62234477 0.63378268 0.62622549 0.62214052 0.62418301\n",
      " 0.61541623 0.59921491 0.58079201 0.56433076 0.54924339 0.53512675\n",
      " 0.52195549 0.50983495 0.49886477 0.48908684]\n",
      "Day 10 output [[0.4804815]]\n",
      "Day 11 input [0.69138072 0.70894608 0.72263072 0.73406863 0.72120098 0.74979575\n",
      " 0.7689951  0.74468954 0.7120098  0.74673203 0.75490196 0.76041667\n",
      " 0.75980392 0.74652778 0.76245915 0.77062908 0.80412582 0.78104575\n",
      " 0.79411765 0.76021242 0.73488562 0.72406046 0.73999183 0.74979575\n",
      " 0.76143791 0.75428922 0.74754902 0.76960784 0.7495915  0.81719771\n",
      " 0.80208333 0.77736928 0.75714869 0.79370915 0.79166667 0.77144608\n",
      " 0.75265523 0.72691993 0.6629902  0.68198529 0.64419935 0.62152778\n",
      " 0.6439951  0.66319444 0.67544935 0.63705065 0.64603758 0.65890523\n",
      " 0.65870098 0.67790033 0.63194444 0.63112745 0.62785948 0.64767157\n",
      " 0.63991013 0.63480392 0.63868464 0.62336601 0.62745098 0.63970588\n",
      " 0.64705882 0.66196895 0.67075163 0.65196078 0.63112745 0.61294935\n",
      " 0.6376634  0.62254902 0.62745098 0.63337418 0.62642974 0.63623366\n",
      " 0.58312908 0.57781863 0.57230392 0.58006536 0.57618464 0.55167484\n",
      " 0.57883987 0.625      0.63582516 0.62949346 0.62888072 0.62765523\n",
      " 0.62234477 0.63378268 0.62622549 0.62214052 0.62418301 0.61541623\n",
      " 0.59921491 0.58079201 0.56433076 0.54924339 0.53512675 0.52195549\n",
      " 0.50983495 0.49886477 0.48908684 0.48048151]\n",
      "Day 11 output [[0.47298175]]\n",
      "Day 12 input [0.70894608 0.72263072 0.73406863 0.72120098 0.74979575 0.7689951\n",
      " 0.74468954 0.7120098  0.74673203 0.75490196 0.76041667 0.75980392\n",
      " 0.74652778 0.76245915 0.77062908 0.80412582 0.78104575 0.79411765\n",
      " 0.76021242 0.73488562 0.72406046 0.73999183 0.74979575 0.76143791\n",
      " 0.75428922 0.74754902 0.76960784 0.7495915  0.81719771 0.80208333\n",
      " 0.77736928 0.75714869 0.79370915 0.79166667 0.77144608 0.75265523\n",
      " 0.72691993 0.6629902  0.68198529 0.64419935 0.62152778 0.6439951\n",
      " 0.66319444 0.67544935 0.63705065 0.64603758 0.65890523 0.65870098\n",
      " 0.67790033 0.63194444 0.63112745 0.62785948 0.64767157 0.63991013\n",
      " 0.63480392 0.63868464 0.62336601 0.62745098 0.63970588 0.64705882\n",
      " 0.66196895 0.67075163 0.65196078 0.63112745 0.61294935 0.6376634\n",
      " 0.62254902 0.62745098 0.63337418 0.62642974 0.63623366 0.58312908\n",
      " 0.57781863 0.57230392 0.58006536 0.57618464 0.55167484 0.57883987\n",
      " 0.625      0.63582516 0.62949346 0.62888072 0.62765523 0.62234477\n",
      " 0.63378268 0.62622549 0.62214052 0.62418301 0.61541623 0.59921491\n",
      " 0.58079201 0.56433076 0.54924339 0.53512675 0.52195549 0.50983495\n",
      " 0.49886477 0.48908684 0.48048151 0.47298175]\n"
     ]
    },
    {
     "name": "stdout",
     "output_type": "stream",
     "text": [
      "Day 12 output [[0.4664907]]\n",
      "Day 13 input [0.72263072 0.73406863 0.72120098 0.74979575 0.7689951  0.74468954\n",
      " 0.7120098  0.74673203 0.75490196 0.76041667 0.75980392 0.74652778\n",
      " 0.76245915 0.77062908 0.80412582 0.78104575 0.79411765 0.76021242\n",
      " 0.73488562 0.72406046 0.73999183 0.74979575 0.76143791 0.75428922\n",
      " 0.74754902 0.76960784 0.7495915  0.81719771 0.80208333 0.77736928\n",
      " 0.75714869 0.79370915 0.79166667 0.77144608 0.75265523 0.72691993\n",
      " 0.6629902  0.68198529 0.64419935 0.62152778 0.6439951  0.66319444\n",
      " 0.67544935 0.63705065 0.64603758 0.65890523 0.65870098 0.67790033\n",
      " 0.63194444 0.63112745 0.62785948 0.64767157 0.63991013 0.63480392\n",
      " 0.63868464 0.62336601 0.62745098 0.63970588 0.64705882 0.66196895\n",
      " 0.67075163 0.65196078 0.63112745 0.61294935 0.6376634  0.62254902\n",
      " 0.62745098 0.63337418 0.62642974 0.63623366 0.58312908 0.57781863\n",
      " 0.57230392 0.58006536 0.57618464 0.55167484 0.57883987 0.625\n",
      " 0.63582516 0.62949346 0.62888072 0.62765523 0.62234477 0.63378268\n",
      " 0.62622549 0.62214052 0.62418301 0.61541623 0.59921491 0.58079201\n",
      " 0.56433076 0.54924339 0.53512675 0.52195549 0.50983495 0.49886477\n",
      " 0.48908684 0.48048151 0.47298175 0.46649069]\n",
      "Day 13 output [[0.46089664]]\n",
      "Day 14 input [0.73406863 0.72120098 0.74979575 0.7689951  0.74468954 0.7120098\n",
      " 0.74673203 0.75490196 0.76041667 0.75980392 0.74652778 0.76245915\n",
      " 0.77062908 0.80412582 0.78104575 0.79411765 0.76021242 0.73488562\n",
      " 0.72406046 0.73999183 0.74979575 0.76143791 0.75428922 0.74754902\n",
      " 0.76960784 0.7495915  0.81719771 0.80208333 0.77736928 0.75714869\n",
      " 0.79370915 0.79166667 0.77144608 0.75265523 0.72691993 0.6629902\n",
      " 0.68198529 0.64419935 0.62152778 0.6439951  0.66319444 0.67544935\n",
      " 0.63705065 0.64603758 0.65890523 0.65870098 0.67790033 0.63194444\n",
      " 0.63112745 0.62785948 0.64767157 0.63991013 0.63480392 0.63868464\n",
      " 0.62336601 0.62745098 0.63970588 0.64705882 0.66196895 0.67075163\n",
      " 0.65196078 0.63112745 0.61294935 0.6376634  0.62254902 0.62745098\n",
      " 0.63337418 0.62642974 0.63623366 0.58312908 0.57781863 0.57230392\n",
      " 0.58006536 0.57618464 0.55167484 0.57883987 0.625      0.63582516\n",
      " 0.62949346 0.62888072 0.62765523 0.62234477 0.63378268 0.62622549\n",
      " 0.62214052 0.62418301 0.61541623 0.59921491 0.58079201 0.56433076\n",
      " 0.54924339 0.53512675 0.52195549 0.50983495 0.49886477 0.48908684\n",
      " 0.48048151 0.47298175 0.46649069 0.46089664]\n",
      "Day 14 output [[0.45608237]]\n",
      "Day 15 input [0.72120098 0.74979575 0.7689951  0.74468954 0.7120098  0.74673203\n",
      " 0.75490196 0.76041667 0.75980392 0.74652778 0.76245915 0.77062908\n",
      " 0.80412582 0.78104575 0.79411765 0.76021242 0.73488562 0.72406046\n",
      " 0.73999183 0.74979575 0.76143791 0.75428922 0.74754902 0.76960784\n",
      " 0.7495915  0.81719771 0.80208333 0.77736928 0.75714869 0.79370915\n",
      " 0.79166667 0.77144608 0.75265523 0.72691993 0.6629902  0.68198529\n",
      " 0.64419935 0.62152778 0.6439951  0.66319444 0.67544935 0.63705065\n",
      " 0.64603758 0.65890523 0.65870098 0.67790033 0.63194444 0.63112745\n",
      " 0.62785948 0.64767157 0.63991013 0.63480392 0.63868464 0.62336601\n",
      " 0.62745098 0.63970588 0.64705882 0.66196895 0.67075163 0.65196078\n",
      " 0.63112745 0.61294935 0.6376634  0.62254902 0.62745098 0.63337418\n",
      " 0.62642974 0.63623366 0.58312908 0.57781863 0.57230392 0.58006536\n",
      " 0.57618464 0.55167484 0.57883987 0.625      0.63582516 0.62949346\n",
      " 0.62888072 0.62765523 0.62234477 0.63378268 0.62622549 0.62214052\n",
      " 0.62418301 0.61541623 0.59921491 0.58079201 0.56433076 0.54924339\n",
      " 0.53512675 0.52195549 0.50983495 0.49886477 0.48908684 0.48048151\n",
      " 0.47298175 0.46649069 0.46089664 0.45608237]\n",
      "Day 15 output [[0.4519333]]\n",
      "Day 16 input [0.74979575 0.7689951  0.74468954 0.7120098  0.74673203 0.75490196\n",
      " 0.76041667 0.75980392 0.74652778 0.76245915 0.77062908 0.80412582\n",
      " 0.78104575 0.79411765 0.76021242 0.73488562 0.72406046 0.73999183\n",
      " 0.74979575 0.76143791 0.75428922 0.74754902 0.76960784 0.7495915\n",
      " 0.81719771 0.80208333 0.77736928 0.75714869 0.79370915 0.79166667\n",
      " 0.77144608 0.75265523 0.72691993 0.6629902  0.68198529 0.64419935\n",
      " 0.62152778 0.6439951  0.66319444 0.67544935 0.63705065 0.64603758\n",
      " 0.65890523 0.65870098 0.67790033 0.63194444 0.63112745 0.62785948\n",
      " 0.64767157 0.63991013 0.63480392 0.63868464 0.62336601 0.62745098\n",
      " 0.63970588 0.64705882 0.66196895 0.67075163 0.65196078 0.63112745\n",
      " 0.61294935 0.6376634  0.62254902 0.62745098 0.63337418 0.62642974\n",
      " 0.63623366 0.58312908 0.57781863 0.57230392 0.58006536 0.57618464\n",
      " 0.55167484 0.57883987 0.625      0.63582516 0.62949346 0.62888072\n",
      " 0.62765523 0.62234477 0.63378268 0.62622549 0.62214052 0.62418301\n",
      " 0.61541623 0.59921491 0.58079201 0.56433076 0.54924339 0.53512675\n",
      " 0.52195549 0.50983495 0.49886477 0.48908684 0.48048151 0.47298175\n",
      " 0.46649069 0.46089664 0.45608237 0.45193329]\n",
      "Day 16 output [[0.44834164]]\n",
      "Day 17 input [0.7689951  0.74468954 0.7120098  0.74673203 0.75490196 0.76041667\n",
      " 0.75980392 0.74652778 0.76245915 0.77062908 0.80412582 0.78104575\n",
      " 0.79411765 0.76021242 0.73488562 0.72406046 0.73999183 0.74979575\n",
      " 0.76143791 0.75428922 0.74754902 0.76960784 0.7495915  0.81719771\n",
      " 0.80208333 0.77736928 0.75714869 0.79370915 0.79166667 0.77144608\n",
      " 0.75265523 0.72691993 0.6629902  0.68198529 0.64419935 0.62152778\n",
      " 0.6439951  0.66319444 0.67544935 0.63705065 0.64603758 0.65890523\n",
      " 0.65870098 0.67790033 0.63194444 0.63112745 0.62785948 0.64767157\n",
      " 0.63991013 0.63480392 0.63868464 0.62336601 0.62745098 0.63970588\n",
      " 0.64705882 0.66196895 0.67075163 0.65196078 0.63112745 0.61294935\n",
      " 0.6376634  0.62254902 0.62745098 0.63337418 0.62642974 0.63623366\n",
      " 0.58312908 0.57781863 0.57230392 0.58006536 0.57618464 0.55167484\n",
      " 0.57883987 0.625      0.63582516 0.62949346 0.62888072 0.62765523\n",
      " 0.62234477 0.63378268 0.62622549 0.62214052 0.62418301 0.61541623\n",
      " 0.59921491 0.58079201 0.56433076 0.54924339 0.53512675 0.52195549\n",
      " 0.50983495 0.49886477 0.48908684 0.48048151 0.47298175 0.46649069\n",
      " 0.46089664 0.45608237 0.45193329 0.44834164]\n",
      "Day 17 output [[0.4452091]]\n",
      "Day 18 input [0.74468954 0.7120098  0.74673203 0.75490196 0.76041667 0.75980392\n",
      " 0.74652778 0.76245915 0.77062908 0.80412582 0.78104575 0.79411765\n",
      " 0.76021242 0.73488562 0.72406046 0.73999183 0.74979575 0.76143791\n",
      " 0.75428922 0.74754902 0.76960784 0.7495915  0.81719771 0.80208333\n",
      " 0.77736928 0.75714869 0.79370915 0.79166667 0.77144608 0.75265523\n",
      " 0.72691993 0.6629902  0.68198529 0.64419935 0.62152778 0.6439951\n",
      " 0.66319444 0.67544935 0.63705065 0.64603758 0.65890523 0.65870098\n",
      " 0.67790033 0.63194444 0.63112745 0.62785948 0.64767157 0.63991013\n",
      " 0.63480392 0.63868464 0.62336601 0.62745098 0.63970588 0.64705882\n",
      " 0.66196895 0.67075163 0.65196078 0.63112745 0.61294935 0.6376634\n",
      " 0.62254902 0.62745098 0.63337418 0.62642974 0.63623366 0.58312908\n",
      " 0.57781863 0.57230392 0.58006536 0.57618464 0.55167484 0.57883987\n",
      " 0.625      0.63582516 0.62949346 0.62888072 0.62765523 0.62234477\n",
      " 0.63378268 0.62622549 0.62214052 0.62418301 0.61541623 0.59921491\n",
      " 0.58079201 0.56433076 0.54924339 0.53512675 0.52195549 0.50983495\n",
      " 0.49886477 0.48908684 0.48048151 0.47298175 0.46649069 0.46089664\n",
      " 0.45608237 0.45193329 0.44834164 0.44520909]\n",
      "Day 18 output [[0.44244933]]\n",
      "Day 19 input [0.7120098  0.74673203 0.75490196 0.76041667 0.75980392 0.74652778\n",
      " 0.76245915 0.77062908 0.80412582 0.78104575 0.79411765 0.76021242\n",
      " 0.73488562 0.72406046 0.73999183 0.74979575 0.76143791 0.75428922\n",
      " 0.74754902 0.76960784 0.7495915  0.81719771 0.80208333 0.77736928\n",
      " 0.75714869 0.79370915 0.79166667 0.77144608 0.75265523 0.72691993\n",
      " 0.6629902  0.68198529 0.64419935 0.62152778 0.6439951  0.66319444\n",
      " 0.67544935 0.63705065 0.64603758 0.65890523 0.65870098 0.67790033\n",
      " 0.63194444 0.63112745 0.62785948 0.64767157 0.63991013 0.63480392\n",
      " 0.63868464 0.62336601 0.62745098 0.63970588 0.64705882 0.66196895\n",
      " 0.67075163 0.65196078 0.63112745 0.61294935 0.6376634  0.62254902\n",
      " 0.62745098 0.63337418 0.62642974 0.63623366 0.58312908 0.57781863\n",
      " 0.57230392 0.58006536 0.57618464 0.55167484 0.57883987 0.625\n",
      " 0.63582516 0.62949346 0.62888072 0.62765523 0.62234477 0.63378268\n",
      " 0.62622549 0.62214052 0.62418301 0.61541623 0.59921491 0.58079201\n",
      " 0.56433076 0.54924339 0.53512675 0.52195549 0.50983495 0.49886477\n",
      " 0.48908684 0.48048151 0.47298175 0.46649069 0.46089664 0.45608237\n",
      " 0.45193329 0.44834164 0.44520909 0.44244933]\n",
      "Day 19 output [[0.43998763]]\n",
      "Day 20 input [0.74673203 0.75490196 0.76041667 0.75980392 0.74652778 0.76245915\n",
      " 0.77062908 0.80412582 0.78104575 0.79411765 0.76021242 0.73488562\n",
      " 0.72406046 0.73999183 0.74979575 0.76143791 0.75428922 0.74754902\n",
      " 0.76960784 0.7495915  0.81719771 0.80208333 0.77736928 0.75714869\n",
      " 0.79370915 0.79166667 0.77144608 0.75265523 0.72691993 0.6629902\n",
      " 0.68198529 0.64419935 0.62152778 0.6439951  0.66319444 0.67544935\n",
      " 0.63705065 0.64603758 0.65890523 0.65870098 0.67790033 0.63194444\n",
      " 0.63112745 0.62785948 0.64767157 0.63991013 0.63480392 0.63868464\n",
      " 0.62336601 0.62745098 0.63970588 0.64705882 0.66196895 0.67075163\n",
      " 0.65196078 0.63112745 0.61294935 0.6376634  0.62254902 0.62745098\n",
      " 0.63337418 0.62642974 0.63623366 0.58312908 0.57781863 0.57230392\n",
      " 0.58006536 0.57618464 0.55167484 0.57883987 0.625      0.63582516\n",
      " 0.62949346 0.62888072 0.62765523 0.62234477 0.63378268 0.62622549\n",
      " 0.62214052 0.62418301 0.61541623 0.59921491 0.58079201 0.56433076\n",
      " 0.54924339 0.53512675 0.52195549 0.50983495 0.49886477 0.48908684\n",
      " 0.48048151 0.47298175 0.46649069 0.46089664 0.45608237 0.45193329\n",
      " 0.44834164 0.44520909 0.44244933 0.43998763]\n",
      "Day 20 output [[0.43776038]]\n",
      "Day 21 input [0.75490196 0.76041667 0.75980392 0.74652778 0.76245915 0.77062908\n",
      " 0.80412582 0.78104575 0.79411765 0.76021242 0.73488562 0.72406046\n",
      " 0.73999183 0.74979575 0.76143791 0.75428922 0.74754902 0.76960784\n",
      " 0.7495915  0.81719771 0.80208333 0.77736928 0.75714869 0.79370915\n",
      " 0.79166667 0.77144608 0.75265523 0.72691993 0.6629902  0.68198529\n",
      " 0.64419935 0.62152778 0.6439951  0.66319444 0.67544935 0.63705065\n",
      " 0.64603758 0.65890523 0.65870098 0.67790033 0.63194444 0.63112745\n",
      " 0.62785948 0.64767157 0.63991013 0.63480392 0.63868464 0.62336601\n",
      " 0.62745098 0.63970588 0.64705882 0.66196895 0.67075163 0.65196078\n",
      " 0.63112745 0.61294935 0.6376634  0.62254902 0.62745098 0.63337418\n",
      " 0.62642974 0.63623366 0.58312908 0.57781863 0.57230392 0.58006536\n",
      " 0.57618464 0.55167484 0.57883987 0.625      0.63582516 0.62949346\n",
      " 0.62888072 0.62765523 0.62234477 0.63378268 0.62622549 0.62214052\n",
      " 0.62418301 0.61541623 0.59921491 0.58079201 0.56433076 0.54924339\n",
      " 0.53512675 0.52195549 0.50983495 0.49886477 0.48908684 0.48048151\n",
      " 0.47298175 0.46649069 0.46089664 0.45608237 0.45193329 0.44834164\n",
      " 0.44520909 0.44244933 0.43998763 0.43776038]\n"
     ]
    },
    {
     "name": "stdout",
     "output_type": "stream",
     "text": [
      "Day 21 output [[0.43571588]]\n",
      "Day 22 input [0.76041667 0.75980392 0.74652778 0.76245915 0.77062908 0.80412582\n",
      " 0.78104575 0.79411765 0.76021242 0.73488562 0.72406046 0.73999183\n",
      " 0.74979575 0.76143791 0.75428922 0.74754902 0.76960784 0.7495915\n",
      " 0.81719771 0.80208333 0.77736928 0.75714869 0.79370915 0.79166667\n",
      " 0.77144608 0.75265523 0.72691993 0.6629902  0.68198529 0.64419935\n",
      " 0.62152778 0.6439951  0.66319444 0.67544935 0.63705065 0.64603758\n",
      " 0.65890523 0.65870098 0.67790033 0.63194444 0.63112745 0.62785948\n",
      " 0.64767157 0.63991013 0.63480392 0.63868464 0.62336601 0.62745098\n",
      " 0.63970588 0.64705882 0.66196895 0.67075163 0.65196078 0.63112745\n",
      " 0.61294935 0.6376634  0.62254902 0.62745098 0.63337418 0.62642974\n",
      " 0.63623366 0.58312908 0.57781863 0.57230392 0.58006536 0.57618464\n",
      " 0.55167484 0.57883987 0.625      0.63582516 0.62949346 0.62888072\n",
      " 0.62765523 0.62234477 0.63378268 0.62622549 0.62214052 0.62418301\n",
      " 0.61541623 0.59921491 0.58079201 0.56433076 0.54924339 0.53512675\n",
      " 0.52195549 0.50983495 0.49886477 0.48908684 0.48048151 0.47298175\n",
      " 0.46649069 0.46089664 0.45608237 0.45193329 0.44834164 0.44520909\n",
      " 0.44244933 0.43998763 0.43776038 0.43571588]\n",
      "Day 22 output [[0.43381205]]\n",
      "Day 23 input [0.75980392 0.74652778 0.76245915 0.77062908 0.80412582 0.78104575\n",
      " 0.79411765 0.76021242 0.73488562 0.72406046 0.73999183 0.74979575\n",
      " 0.76143791 0.75428922 0.74754902 0.76960784 0.7495915  0.81719771\n",
      " 0.80208333 0.77736928 0.75714869 0.79370915 0.79166667 0.77144608\n",
      " 0.75265523 0.72691993 0.6629902  0.68198529 0.64419935 0.62152778\n",
      " 0.6439951  0.66319444 0.67544935 0.63705065 0.64603758 0.65890523\n",
      " 0.65870098 0.67790033 0.63194444 0.63112745 0.62785948 0.64767157\n",
      " 0.63991013 0.63480392 0.63868464 0.62336601 0.62745098 0.63970588\n",
      " 0.64705882 0.66196895 0.67075163 0.65196078 0.63112745 0.61294935\n",
      " 0.6376634  0.62254902 0.62745098 0.63337418 0.62642974 0.63623366\n",
      " 0.58312908 0.57781863 0.57230392 0.58006536 0.57618464 0.55167484\n",
      " 0.57883987 0.625      0.63582516 0.62949346 0.62888072 0.62765523\n",
      " 0.62234477 0.63378268 0.62622549 0.62214052 0.62418301 0.61541623\n",
      " 0.59921491 0.58079201 0.56433076 0.54924339 0.53512675 0.52195549\n",
      " 0.50983495 0.49886477 0.48908684 0.48048151 0.47298175 0.46649069\n",
      " 0.46089664 0.45608237 0.45193329 0.44834164 0.44520909 0.44244933\n",
      " 0.43998763 0.43776038 0.43571588 0.43381205]\n",
      "Day 23 output [[0.43201578]]\n",
      "Day 24 input [0.74652778 0.76245915 0.77062908 0.80412582 0.78104575 0.79411765\n",
      " 0.76021242 0.73488562 0.72406046 0.73999183 0.74979575 0.76143791\n",
      " 0.75428922 0.74754902 0.76960784 0.7495915  0.81719771 0.80208333\n",
      " 0.77736928 0.75714869 0.79370915 0.79166667 0.77144608 0.75265523\n",
      " 0.72691993 0.6629902  0.68198529 0.64419935 0.62152778 0.6439951\n",
      " 0.66319444 0.67544935 0.63705065 0.64603758 0.65890523 0.65870098\n",
      " 0.67790033 0.63194444 0.63112745 0.62785948 0.64767157 0.63991013\n",
      " 0.63480392 0.63868464 0.62336601 0.62745098 0.63970588 0.64705882\n",
      " 0.66196895 0.67075163 0.65196078 0.63112745 0.61294935 0.6376634\n",
      " 0.62254902 0.62745098 0.63337418 0.62642974 0.63623366 0.58312908\n",
      " 0.57781863 0.57230392 0.58006536 0.57618464 0.55167484 0.57883987\n",
      " 0.625      0.63582516 0.62949346 0.62888072 0.62765523 0.62234477\n",
      " 0.63378268 0.62622549 0.62214052 0.62418301 0.61541623 0.59921491\n",
      " 0.58079201 0.56433076 0.54924339 0.53512675 0.52195549 0.50983495\n",
      " 0.49886477 0.48908684 0.48048151 0.47298175 0.46649069 0.46089664\n",
      " 0.45608237 0.45193329 0.44834164 0.44520909 0.44244933 0.43998763\n",
      " 0.43776038 0.43571588 0.43381205 0.43201578]\n",
      "Day 24 output [[0.43030214]]\n",
      "Day 25 input [0.76245915 0.77062908 0.80412582 0.78104575 0.79411765 0.76021242\n",
      " 0.73488562 0.72406046 0.73999183 0.74979575 0.76143791 0.75428922\n",
      " 0.74754902 0.76960784 0.7495915  0.81719771 0.80208333 0.77736928\n",
      " 0.75714869 0.79370915 0.79166667 0.77144608 0.75265523 0.72691993\n",
      " 0.6629902  0.68198529 0.64419935 0.62152778 0.6439951  0.66319444\n",
      " 0.67544935 0.63705065 0.64603758 0.65890523 0.65870098 0.67790033\n",
      " 0.63194444 0.63112745 0.62785948 0.64767157 0.63991013 0.63480392\n",
      " 0.63868464 0.62336601 0.62745098 0.63970588 0.64705882 0.66196895\n",
      " 0.67075163 0.65196078 0.63112745 0.61294935 0.6376634  0.62254902\n",
      " 0.62745098 0.63337418 0.62642974 0.63623366 0.58312908 0.57781863\n",
      " 0.57230392 0.58006536 0.57618464 0.55167484 0.57883987 0.625\n",
      " 0.63582516 0.62949346 0.62888072 0.62765523 0.62234477 0.63378268\n",
      " 0.62622549 0.62214052 0.62418301 0.61541623 0.59921491 0.58079201\n",
      " 0.56433076 0.54924339 0.53512675 0.52195549 0.50983495 0.49886477\n",
      " 0.48908684 0.48048151 0.47298175 0.46649069 0.46089664 0.45608237\n",
      " 0.45193329 0.44834164 0.44520909 0.44244933 0.43998763 0.43776038\n",
      " 0.43571588 0.43381205 0.43201578 0.43030214]\n",
      "Day 25 output [[0.4286526]]\n",
      "Day 26 input [0.77062908 0.80412582 0.78104575 0.79411765 0.76021242 0.73488562\n",
      " 0.72406046 0.73999183 0.74979575 0.76143791 0.75428922 0.74754902\n",
      " 0.76960784 0.7495915  0.81719771 0.80208333 0.77736928 0.75714869\n",
      " 0.79370915 0.79166667 0.77144608 0.75265523 0.72691993 0.6629902\n",
      " 0.68198529 0.64419935 0.62152778 0.6439951  0.66319444 0.67544935\n",
      " 0.63705065 0.64603758 0.65890523 0.65870098 0.67790033 0.63194444\n",
      " 0.63112745 0.62785948 0.64767157 0.63991013 0.63480392 0.63868464\n",
      " 0.62336601 0.62745098 0.63970588 0.64705882 0.66196895 0.67075163\n",
      " 0.65196078 0.63112745 0.61294935 0.6376634  0.62254902 0.62745098\n",
      " 0.63337418 0.62642974 0.63623366 0.58312908 0.57781863 0.57230392\n",
      " 0.58006536 0.57618464 0.55167484 0.57883987 0.625      0.63582516\n",
      " 0.62949346 0.62888072 0.62765523 0.62234477 0.63378268 0.62622549\n",
      " 0.62214052 0.62418301 0.61541623 0.59921491 0.58079201 0.56433076\n",
      " 0.54924339 0.53512675 0.52195549 0.50983495 0.49886477 0.48908684\n",
      " 0.48048151 0.47298175 0.46649069 0.46089664 0.45608237 0.45193329\n",
      " 0.44834164 0.44520909 0.44244933 0.43998763 0.43776038 0.43571588\n",
      " 0.43381205 0.43201578 0.43030214 0.42865261]\n",
      "Day 26 output [[0.427054]]\n",
      "Day 27 input [0.80412582 0.78104575 0.79411765 0.76021242 0.73488562 0.72406046\n",
      " 0.73999183 0.74979575 0.76143791 0.75428922 0.74754902 0.76960784\n",
      " 0.7495915  0.81719771 0.80208333 0.77736928 0.75714869 0.79370915\n",
      " 0.79166667 0.77144608 0.75265523 0.72691993 0.6629902  0.68198529\n",
      " 0.64419935 0.62152778 0.6439951  0.66319444 0.67544935 0.63705065\n",
      " 0.64603758 0.65890523 0.65870098 0.67790033 0.63194444 0.63112745\n",
      " 0.62785948 0.64767157 0.63991013 0.63480392 0.63868464 0.62336601\n",
      " 0.62745098 0.63970588 0.64705882 0.66196895 0.67075163 0.65196078\n",
      " 0.63112745 0.61294935 0.6376634  0.62254902 0.62745098 0.63337418\n",
      " 0.62642974 0.63623366 0.58312908 0.57781863 0.57230392 0.58006536\n",
      " 0.57618464 0.55167484 0.57883987 0.625      0.63582516 0.62949346\n",
      " 0.62888072 0.62765523 0.62234477 0.63378268 0.62622549 0.62214052\n",
      " 0.62418301 0.61541623 0.59921491 0.58079201 0.56433076 0.54924339\n",
      " 0.53512675 0.52195549 0.50983495 0.49886477 0.48908684 0.48048151\n",
      " 0.47298175 0.46649069 0.46089664 0.45608237 0.45193329 0.44834164\n",
      " 0.44520909 0.44244933 0.43998763 0.43776038 0.43571588 0.43381205\n",
      " 0.43201578 0.43030214 0.42865261 0.42705399]\n",
      "Day 27 output [[0.42549762]]\n",
      "Day 28 input [0.78104575 0.79411765 0.76021242 0.73488562 0.72406046 0.73999183\n",
      " 0.74979575 0.76143791 0.75428922 0.74754902 0.76960784 0.7495915\n",
      " 0.81719771 0.80208333 0.77736928 0.75714869 0.79370915 0.79166667\n",
      " 0.77144608 0.75265523 0.72691993 0.6629902  0.68198529 0.64419935\n",
      " 0.62152778 0.6439951  0.66319444 0.67544935 0.63705065 0.64603758\n",
      " 0.65890523 0.65870098 0.67790033 0.63194444 0.63112745 0.62785948\n",
      " 0.64767157 0.63991013 0.63480392 0.63868464 0.62336601 0.62745098\n",
      " 0.63970588 0.64705882 0.66196895 0.67075163 0.65196078 0.63112745\n",
      " 0.61294935 0.6376634  0.62254902 0.62745098 0.63337418 0.62642974\n",
      " 0.63623366 0.58312908 0.57781863 0.57230392 0.58006536 0.57618464\n",
      " 0.55167484 0.57883987 0.625      0.63582516 0.62949346 0.62888072\n",
      " 0.62765523 0.62234477 0.63378268 0.62622549 0.62214052 0.62418301\n",
      " 0.61541623 0.59921491 0.58079201 0.56433076 0.54924339 0.53512675\n",
      " 0.52195549 0.50983495 0.49886477 0.48908684 0.48048151 0.47298175\n",
      " 0.46649069 0.46089664 0.45608237 0.45193329 0.44834164 0.44520909\n",
      " 0.44244933 0.43998763 0.43776038 0.43571588 0.43381205 0.43201578\n",
      " 0.43030214 0.42865261 0.42705399 0.42549762]\n",
      "Day 28 output [[0.42397833]]\n",
      "Day 29 input [0.79411765 0.76021242 0.73488562 0.72406046 0.73999183 0.74979575\n",
      " 0.76143791 0.75428922 0.74754902 0.76960784 0.7495915  0.81719771\n",
      " 0.80208333 0.77736928 0.75714869 0.79370915 0.79166667 0.77144608\n",
      " 0.75265523 0.72691993 0.6629902  0.68198529 0.64419935 0.62152778\n",
      " 0.6439951  0.66319444 0.67544935 0.63705065 0.64603758 0.65890523\n",
      " 0.65870098 0.67790033 0.63194444 0.63112745 0.62785948 0.64767157\n",
      " 0.63991013 0.63480392 0.63868464 0.62336601 0.62745098 0.63970588\n",
      " 0.64705882 0.66196895 0.67075163 0.65196078 0.63112745 0.61294935\n",
      " 0.6376634  0.62254902 0.62745098 0.63337418 0.62642974 0.63623366\n",
      " 0.58312908 0.57781863 0.57230392 0.58006536 0.57618464 0.55167484\n",
      " 0.57883987 0.625      0.63582516 0.62949346 0.62888072 0.62765523\n",
      " 0.62234477 0.63378268 0.62622549 0.62214052 0.62418301 0.61541623\n",
      " 0.59921491 0.58079201 0.56433076 0.54924339 0.53512675 0.52195549\n",
      " 0.50983495 0.49886477 0.48908684 0.48048151 0.47298175 0.46649069\n",
      " 0.46089664 0.45608237 0.45193329 0.44834164 0.44520909 0.44244933\n",
      " 0.43998763 0.43776038 0.43571588 0.43381205 0.43201578 0.43030214\n",
      " 0.42865261 0.42705399 0.42549762 0.42397833]\n",
      "Day 29 output [[0.4224935]]\n",
      "[[0.6154162287712097], [0.5992149114608765], [0.5807920098304749], [0.5643307566642761], [0.5492433905601501], [0.5351267457008362], [0.5219554901123047], [0.5098349452018738], [0.4988647699356079], [0.4890868365764618], [0.48048150539398193], [0.4729817509651184], [0.4664906859397888], [0.46089664101600647], [0.45608237385749817], [0.4519332945346832], [0.44834163784980774], [0.4452090859413147], [0.44244933128356934], [0.4399876296520233], [0.4377603828907013], [0.4357158839702606], [0.43381205201148987], [0.4320157766342163], [0.43030214309692383], [0.4286526143550873], [0.4270539879798889], [0.4254976212978363], [0.423978328704834], [0.42249348759651184]]\n"
     ]
    }
   ],
   "source": [
    "list_output = []\n",
    "num_steps=100\n",
    "i = 0\n",
    "while (i < 30):\n",
    "    if(len(temp) > 100):\n",
    "        X_input = np.array(temp[1:])\n",
    "        print(\"Day {} input {}\".format(i, X_input))\n",
    "        X_input = X_input.reshape(1,-1)\n",
    "        X_input = X_input.reshape((1, num_steps, 1))\n",
    "        yhat = model.predict(X_input, verbose = 0)\n",
    "        print(\"Day {} output {}\".format(i, yhat))\n",
    "        temp.extend(yhat[0].tolist())\n",
    "        temp = temp[1:]\n",
    "        list_output.extend(yhat.tolist())\n",
    "        i = i + 1\n",
    "    else:\n",
    "        X_input = X_input.reshape((1, num_steps, 1))\n",
    "        yhat = model.predict(X_input, verbose = 0)\n",
    "        print(yhat[0])\n",
    "        temp.extend(yhat[0].tolist())\n",
    "        print(len(temp))\n",
    "        list_output.extend(yhat.tolist())\n",
    "        i = i + 1\n",
    "\n",
    "print(list_output)"
   ]
  },
  {
   "cell_type": "code",
   "execution_count": 34,
   "id": "fa7319fa",
   "metadata": {},
   "outputs": [],
   "source": [
    "new_day = np.arange(1, 101)\n",
    "pred_day = np.arange(101, 131)"
   ]
  },
  {
   "cell_type": "code",
   "execution_count": 35,
   "id": "935ad7f8",
   "metadata": {},
   "outputs": [
    {
     "data": {
      "text/plain": [
       "2035"
      ]
     },
     "execution_count": 35,
     "metadata": {},
     "output_type": "execute_result"
    }
   ],
   "source": [
    "len(df)"
   ]
  },
  {
   "cell_type": "code",
   "execution_count": 36,
   "id": "52097bb5",
   "metadata": {},
   "outputs": [
    {
     "data": {
      "image/png": "[encoded data removed]",
      "text/plain": [
       "<Figure size 1008x504 with 1 Axes>"
      ]
     },
     "metadata": {
      "needs_background": "light"
     },
     "output_type": "display_data"
    }
   ],
   "source": [
    "plt.figure(figsize=(14, 7))\n",
    "plt.plot(new_day, sc.inverse_transform(df[1935:]))\n",
    "plt.plot(pred_day, sc.inverse_transform(list_output))\n",
    "plt.show()"
   ]
  },
  {
   "cell_type": "code",
   "execution_count": 37,
   "id": "a5a24e99",
   "metadata": {},
   "outputs": [],
   "source": [
    "df = df.tolist()\n",
    "df.extend(list_output)"
   ]
  },
  {
   "cell_type": "code",
   "execution_count": 38,
   "id": "30b73f98",
   "metadata": {},
   "outputs": [
    {
     "data": {
      "image/png": "[encoded data removed]",
      "text/plain": [
       "<Figure size 1008x504 with 1 Axes>"
      ]
     },
     "metadata": {
      "needs_background": "light"
     },
     "output_type": "display_data"
    }
   ],
   "source": [
    "plt.figure(figsize=(14, 7))\n",
    "plt.plot(df[1600:])\n",
    "plt.show()"
   ]
  },
  {
   "cell_type": "code",
   "execution_count": null,
   "id": "39c74af7",
   "metadata": {},
   "outputs": [],
   "source": []
  }
 ],
 "metadata": {
  "kernelspec": {
   "display_name": "Python 3",
   "language": "python",
   "name": "python3"
  },
  "language_info": {
   "codemirror_mode": {
    "name": "ipython",
    "version": 3
   },
   "file_extension": ".py",
   "mimetype": "text/x-python",
   "name": "python",
   "nbconvert_exporter": "python",
   "pygments_lexer": "ipython3",
   "version": "3.8.8"
  }
 },
 "nbformat": 4,
 "nbformat_minor": 5
}
